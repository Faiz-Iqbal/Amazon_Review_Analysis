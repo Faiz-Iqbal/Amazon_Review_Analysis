{
 "cells": [
  {
   "cell_type": "markdown",
   "metadata": {},
   "source": [
    "# Sentiment Analysis on Amazon Reviews"
   ]
  },
  {
   "cell_type": "markdown",
   "metadata": {},
   "source": [
    "## Objective"
   ]
  },
  {
   "cell_type": "markdown",
   "metadata": {},
   "source": [
    "## Data Description"
   ]
  },
  {
   "cell_type": "markdown",
   "metadata": {},
   "source": [
    "## Methodology"
   ]
  },
  {
   "cell_type": "markdown",
   "metadata": {},
   "source": [
    "### Imports"
   ]
  },
  {
   "cell_type": "markdown",
   "metadata": {},
   "source": [
    "Run the following command in your terminal or command prompt to install all necessary libraries:\n",
    "\n",
    "```bash\n",
    "pip install pandas seaborn matplotlib numpy scikit-learn nltk textblob wordcloud"
   ]
  },
  {
   "cell_type": "code",
   "execution_count": 19,
   "metadata": {},
   "outputs": [],
   "source": [
    "#All the imports are mentioned here:\n",
    "import pandas as pd\n",
    "import seaborn as sns\n",
    "import matplotlib.pyplot as plt\n",
    "import numpy as np\n",
    "import sklearn as sk\n",
    "\n",
    "# Data cleaning tools\n",
    "import re\n",
    "import string\n",
    "\n",
    "# Removing special characters\n",
    "import unicodedata\n",
    "\n",
    "# Removing stopwords\n",
    "from nltk.corpus import stopwords\n",
    "from nltk.tokenize import word_tokenize\n",
    "\n",
    "# Calculating Polarity and Subjectivity\n",
    "from textblob import TextBlob\n",
    "\n",
    "# N-grams\n",
    "from nltk.util import ngrams\n",
    "\n",
    "# for Wordscloud\n",
    "from wordcloud import WordCloud\n",
    "from sklearn.feature_extraction.text import CountVectorizer\n",
    "\n",
    "# Load modules\n",
    "import nltk\n",
    "import collections"
   ]
  },
  {
   "cell_type": "markdown",
   "metadata": {},
   "source": [
    "### Step 1: Load & Inspect Data"
   ]
  },
  {
   "cell_type": "code",
   "execution_count": 20,
   "metadata": {},
   "outputs": [],
   "source": [
    "balanced_data = pd.read_csv('Datasets/balanced_reviews.csv')"
   ]
  },
  {
   "cell_type": "code",
   "execution_count": 21,
   "metadata": {},
   "outputs": [
    {
     "data": {
      "text/html": [
       "<div>\n",
       "<style scoped>\n",
       "    .dataframe tbody tr th:only-of-type {\n",
       "        vertical-align: middle;\n",
       "    }\n",
       "\n",
       "    .dataframe tbody tr th {\n",
       "        vertical-align: top;\n",
       "    }\n",
       "\n",
       "    .dataframe thead th {\n",
       "        text-align: right;\n",
       "    }\n",
       "</style>\n",
       "<table border=\"1\" class=\"dataframe\">\n",
       "  <thead>\n",
       "    <tr style=\"text-align: right;\">\n",
       "      <th></th>\n",
       "      <th>ProductId</th>\n",
       "      <th>UserId</th>\n",
       "      <th>ProfileName</th>\n",
       "      <th>HelpfulnessNumerator</th>\n",
       "      <th>HelpfulnessDenominator</th>\n",
       "      <th>Score</th>\n",
       "      <th>Time</th>\n",
       "      <th>Summary</th>\n",
       "      <th>Text</th>\n",
       "      <th>length</th>\n",
       "    </tr>\n",
       "  </thead>\n",
       "  <tbody>\n",
       "    <tr>\n",
       "      <th>0</th>\n",
       "      <td>B008COIXOG</td>\n",
       "      <td>AY12DBB0U420B</td>\n",
       "      <td>Gary Peterson</td>\n",
       "      <td>1</td>\n",
       "      <td>1</td>\n",
       "      <td>5</td>\n",
       "      <td>1342310400</td>\n",
       "      <td>Nice Fresh Coconut Taste. Loaded With Potassium.</td>\n",
       "      <td>I just recently visited my nearby Fresh and Ea...</td>\n",
       "      <td>357</td>\n",
       "    </tr>\n",
       "    <tr>\n",
       "      <th>1</th>\n",
       "      <td>B004VLVG0C</td>\n",
       "      <td>A1KE5DCWHTAUUX</td>\n",
       "      <td>Gary Anderson</td>\n",
       "      <td>1</td>\n",
       "      <td>1</td>\n",
       "      <td>5</td>\n",
       "      <td>1336867200</td>\n",
       "      <td>Semolina flour for making pasta</td>\n",
       "      <td>This works great  I followed the recipe on the...</td>\n",
       "      <td>296</td>\n",
       "    </tr>\n",
       "    <tr>\n",
       "      <th>2</th>\n",
       "      <td>B000FL0A9K</td>\n",
       "      <td>AJKN1OQ368JGH</td>\n",
       "      <td>Lynn Benson</td>\n",
       "      <td>0</td>\n",
       "      <td>0</td>\n",
       "      <td>2</td>\n",
       "      <td>1181692800</td>\n",
       "      <td>Too Sweet</td>\n",
       "      <td>Personal preference too sweet  Tastes like Gen...</td>\n",
       "      <td>142</td>\n",
       "    </tr>\n",
       "    <tr>\n",
       "      <th>3</th>\n",
       "      <td>B0015MY6PC</td>\n",
       "      <td>A2CFYUTWZ3N3FJ</td>\n",
       "      <td>A. Pickett</td>\n",
       "      <td>0</td>\n",
       "      <td>0</td>\n",
       "      <td>5</td>\n",
       "      <td>1244160000</td>\n",
       "      <td>My Daughter Loves These</td>\n",
       "      <td>My daughter loves these snacks She doesnt care...</td>\n",
       "      <td>539</td>\n",
       "    </tr>\n",
       "    <tr>\n",
       "      <th>4</th>\n",
       "      <td>B000LTIDR2</td>\n",
       "      <td>A1MG6S9RPWX7C7</td>\n",
       "      <td>Rebeliium</td>\n",
       "      <td>0</td>\n",
       "      <td>0</td>\n",
       "      <td>3</td>\n",
       "      <td>1346976000</td>\n",
       "      <td>Too Much and Too Sweet</td>\n",
       "      <td>I would not recommend buying this product beca...</td>\n",
       "      <td>1331</td>\n",
       "    </tr>\n",
       "  </tbody>\n",
       "</table>\n",
       "</div>"
      ],
      "text/plain": [
       "    ProductId          UserId    ProfileName  HelpfulnessNumerator  \\\n",
       "0  B008COIXOG   AY12DBB0U420B  Gary Peterson                     1   \n",
       "1  B004VLVG0C  A1KE5DCWHTAUUX  Gary Anderson                     1   \n",
       "2  B000FL0A9K   AJKN1OQ368JGH    Lynn Benson                     0   \n",
       "3  B0015MY6PC  A2CFYUTWZ3N3FJ     A. Pickett                     0   \n",
       "4  B000LTIDR2  A1MG6S9RPWX7C7      Rebeliium                     0   \n",
       "\n",
       "   HelpfulnessDenominator  Score        Time  \\\n",
       "0                       1      5  1342310400   \n",
       "1                       1      5  1336867200   \n",
       "2                       0      2  1181692800   \n",
       "3                       0      5  1244160000   \n",
       "4                       0      3  1346976000   \n",
       "\n",
       "                                            Summary  \\\n",
       "0  Nice Fresh Coconut Taste. Loaded With Potassium.   \n",
       "1                   Semolina flour for making pasta   \n",
       "2                                         Too Sweet   \n",
       "3                           My Daughter Loves These   \n",
       "4                            Too Much and Too Sweet   \n",
       "\n",
       "                                                Text  length  \n",
       "0  I just recently visited my nearby Fresh and Ea...     357  \n",
       "1  This works great  I followed the recipe on the...     296  \n",
       "2  Personal preference too sweet  Tastes like Gen...     142  \n",
       "3  My daughter loves these snacks She doesnt care...     539  \n",
       "4  I would not recommend buying this product beca...    1331  "
      ]
     },
     "execution_count": 21,
     "metadata": {},
     "output_type": "execute_result"
    }
   ],
   "source": [
    "balanced_data.head()"
   ]
  },
  {
   "cell_type": "code",
   "execution_count": 22,
   "metadata": {},
   "outputs": [
    {
     "data": {
      "text/html": [
       "<div>\n",
       "<style scoped>\n",
       "    .dataframe tbody tr th:only-of-type {\n",
       "        vertical-align: middle;\n",
       "    }\n",
       "\n",
       "    .dataframe tbody tr th {\n",
       "        vertical-align: top;\n",
       "    }\n",
       "\n",
       "    .dataframe thead th {\n",
       "        text-align: right;\n",
       "    }\n",
       "</style>\n",
       "<table border=\"1\" class=\"dataframe\">\n",
       "  <thead>\n",
       "    <tr style=\"text-align: right;\">\n",
       "      <th></th>\n",
       "      <th>ProductId</th>\n",
       "      <th>UserId</th>\n",
       "      <th>ProfileName</th>\n",
       "      <th>HelpfulnessNumerator</th>\n",
       "      <th>HelpfulnessDenominator</th>\n",
       "      <th>Score</th>\n",
       "      <th>Time</th>\n",
       "      <th>Summary</th>\n",
       "      <th>Text</th>\n",
       "      <th>length</th>\n",
       "    </tr>\n",
       "  </thead>\n",
       "  <tbody>\n",
       "    <tr>\n",
       "      <th>124995</th>\n",
       "      <td>B000JOE224</td>\n",
       "      <td>A28EQ06V6ZOMV0</td>\n",
       "      <td>Nanette Erickson \"An avid reader from Florida\"</td>\n",
       "      <td>0</td>\n",
       "      <td>0</td>\n",
       "      <td>5</td>\n",
       "      <td>1272326400</td>\n",
       "      <td>Terrific idea.</td>\n",
       "      <td>I have a cat that can sense a pill in anything...</td>\n",
       "      <td>190</td>\n",
       "    </tr>\n",
       "    <tr>\n",
       "      <th>124996</th>\n",
       "      <td>B000WJ6C2O</td>\n",
       "      <td>AC2GDNWF8REFU</td>\n",
       "      <td>mammy</td>\n",
       "      <td>0</td>\n",
       "      <td>0</td>\n",
       "      <td>5</td>\n",
       "      <td>1328918400</td>\n",
       "      <td>Bran Flakes</td>\n",
       "      <td>I was looking for an affordable product to use...</td>\n",
       "      <td>256</td>\n",
       "    </tr>\n",
       "    <tr>\n",
       "      <th>124997</th>\n",
       "      <td>B004N8LMFM</td>\n",
       "      <td>A1O80FSHN7HR8F</td>\n",
       "      <td>Derp</td>\n",
       "      <td>3</td>\n",
       "      <td>22</td>\n",
       "      <td>1</td>\n",
       "      <td>1310169600</td>\n",
       "      <td>tasted like plastic. Instructions not readible.</td>\n",
       "      <td>tasted like plastic The texture is so strange ...</td>\n",
       "      <td>292</td>\n",
       "    </tr>\n",
       "    <tr>\n",
       "      <th>124998</th>\n",
       "      <td>B000GW257S</td>\n",
       "      <td>A1NL8RB3BHVFKR</td>\n",
       "      <td>Katrina</td>\n",
       "      <td>0</td>\n",
       "      <td>0</td>\n",
       "      <td>1</td>\n",
       "      <td>1323993600</td>\n",
       "      <td>YUK</td>\n",
       "      <td>This stuff taste terrible  Just like an artifi...</td>\n",
       "      <td>141</td>\n",
       "    </tr>\n",
       "    <tr>\n",
       "      <th>124999</th>\n",
       "      <td>B002QWP89S</td>\n",
       "      <td>A1HZIWB1RGW7RM</td>\n",
       "      <td>Danny Knowles</td>\n",
       "      <td>1</td>\n",
       "      <td>1</td>\n",
       "      <td>5</td>\n",
       "      <td>1319673600</td>\n",
       "      <td>Greenies</td>\n",
       "      <td>These are the best things since sliced bread  ...</td>\n",
       "      <td>300</td>\n",
       "    </tr>\n",
       "  </tbody>\n",
       "</table>\n",
       "</div>"
      ],
      "text/plain": [
       "         ProductId          UserId  \\\n",
       "124995  B000JOE224  A28EQ06V6ZOMV0   \n",
       "124996  B000WJ6C2O   AC2GDNWF8REFU   \n",
       "124997  B004N8LMFM  A1O80FSHN7HR8F   \n",
       "124998  B000GW257S  A1NL8RB3BHVFKR   \n",
       "124999  B002QWP89S  A1HZIWB1RGW7RM   \n",
       "\n",
       "                                           ProfileName  HelpfulnessNumerator  \\\n",
       "124995  Nanette Erickson \"An avid reader from Florida\"                     0   \n",
       "124996                                           mammy                     0   \n",
       "124997                                            Derp                     3   \n",
       "124998                                         Katrina                     0   \n",
       "124999                                   Danny Knowles                     1   \n",
       "\n",
       "        HelpfulnessDenominator  Score        Time  \\\n",
       "124995                       0      5  1272326400   \n",
       "124996                       0      5  1328918400   \n",
       "124997                      22      1  1310169600   \n",
       "124998                       0      1  1323993600   \n",
       "124999                       1      5  1319673600   \n",
       "\n",
       "                                                Summary  \\\n",
       "124995                                   Terrific idea.   \n",
       "124996                                      Bran Flakes   \n",
       "124997  tasted like plastic. Instructions not readible.   \n",
       "124998                                              YUK   \n",
       "124999                                         Greenies   \n",
       "\n",
       "                                                     Text  length  \n",
       "124995  I have a cat that can sense a pill in anything...     190  \n",
       "124996  I was looking for an affordable product to use...     256  \n",
       "124997  tasted like plastic The texture is so strange ...     292  \n",
       "124998  This stuff taste terrible  Just like an artifi...     141  \n",
       "124999  These are the best things since sliced bread  ...     300  "
      ]
     },
     "execution_count": 22,
     "metadata": {},
     "output_type": "execute_result"
    }
   ],
   "source": [
    "balanced_data.tail()"
   ]
  },
  {
   "cell_type": "code",
   "execution_count": 23,
   "metadata": {},
   "outputs": [
    {
     "name": "stdout",
     "output_type": "stream",
     "text": [
      "<class 'pandas.core.frame.DataFrame'>\n",
      "RangeIndex: 125000 entries, 0 to 124999\n",
      "Data columns (total 10 columns):\n",
      " #   Column                  Non-Null Count   Dtype \n",
      "---  ------                  --------------   ----- \n",
      " 0   ProductId               125000 non-null  object\n",
      " 1   UserId                  125000 non-null  object\n",
      " 2   ProfileName             124998 non-null  object\n",
      " 3   HelpfulnessNumerator    125000 non-null  int64 \n",
      " 4   HelpfulnessDenominator  125000 non-null  int64 \n",
      " 5   Score                   125000 non-null  int64 \n",
      " 6   Time                    125000 non-null  int64 \n",
      " 7   Summary                 124978 non-null  object\n",
      " 8   Text                    125000 non-null  object\n",
      " 9   length                  125000 non-null  int64 \n",
      "dtypes: int64(5), object(5)\n",
      "memory usage: 9.5+ MB\n"
     ]
    }
   ],
   "source": [
    "balanced_data.info()"
   ]
  },
  {
   "cell_type": "code",
   "execution_count": 24,
   "metadata": {},
   "outputs": [
    {
     "data": {
      "text/html": [
       "<div>\n",
       "<style scoped>\n",
       "    .dataframe tbody tr th:only-of-type {\n",
       "        vertical-align: middle;\n",
       "    }\n",
       "\n",
       "    .dataframe tbody tr th {\n",
       "        vertical-align: top;\n",
       "    }\n",
       "\n",
       "    .dataframe thead th {\n",
       "        text-align: right;\n",
       "    }\n",
       "</style>\n",
       "<table border=\"1\" class=\"dataframe\">\n",
       "  <thead>\n",
       "    <tr style=\"text-align: right;\">\n",
       "      <th></th>\n",
       "      <th>HelpfulnessNumerator</th>\n",
       "      <th>HelpfulnessDenominator</th>\n",
       "      <th>Score</th>\n",
       "      <th>Time</th>\n",
       "      <th>length</th>\n",
       "    </tr>\n",
       "  </thead>\n",
       "  <tbody>\n",
       "    <tr>\n",
       "      <th>count</th>\n",
       "      <td>125000.000000</td>\n",
       "      <td>125000.000000</td>\n",
       "      <td>125000.000000</td>\n",
       "      <td>1.250000e+05</td>\n",
       "      <td>125000.000000</td>\n",
       "    </tr>\n",
       "    <tr>\n",
       "      <th>mean</th>\n",
       "      <td>1.852448</td>\n",
       "      <td>2.773656</td>\n",
       "      <td>3.000000</td>\n",
       "      <td>1.299249e+09</td>\n",
       "      <td>456.388040</td>\n",
       "    </tr>\n",
       "    <tr>\n",
       "      <th>std</th>\n",
       "      <td>7.729888</td>\n",
       "      <td>8.831183</td>\n",
       "      <td>1.414219</td>\n",
       "      <td>4.597147e+07</td>\n",
       "      <td>455.731686</td>\n",
       "    </tr>\n",
       "    <tr>\n",
       "      <th>min</th>\n",
       "      <td>0.000000</td>\n",
       "      <td>0.000000</td>\n",
       "      <td>1.000000</td>\n",
       "      <td>9.617184e+08</td>\n",
       "      <td>30.000000</td>\n",
       "    </tr>\n",
       "    <tr>\n",
       "      <th>25%</th>\n",
       "      <td>0.000000</td>\n",
       "      <td>0.000000</td>\n",
       "      <td>2.000000</td>\n",
       "      <td>1.278547e+09</td>\n",
       "      <td>189.000000</td>\n",
       "    </tr>\n",
       "    <tr>\n",
       "      <th>50%</th>\n",
       "      <td>0.000000</td>\n",
       "      <td>1.000000</td>\n",
       "      <td>3.000000</td>\n",
       "      <td>1.313626e+09</td>\n",
       "      <td>324.000000</td>\n",
       "    </tr>\n",
       "    <tr>\n",
       "      <th>75%</th>\n",
       "      <td>2.000000</td>\n",
       "      <td>3.000000</td>\n",
       "      <td>4.000000</td>\n",
       "      <td>1.333411e+09</td>\n",
       "      <td>561.000000</td>\n",
       "    </tr>\n",
       "    <tr>\n",
       "      <th>max</th>\n",
       "      <td>844.000000</td>\n",
       "      <td>923.000000</td>\n",
       "      <td>5.000000</td>\n",
       "      <td>1.351210e+09</td>\n",
       "      <td>20560.000000</td>\n",
       "    </tr>\n",
       "  </tbody>\n",
       "</table>\n",
       "</div>"
      ],
      "text/plain": [
       "       HelpfulnessNumerator  HelpfulnessDenominator          Score  \\\n",
       "count         125000.000000           125000.000000  125000.000000   \n",
       "mean               1.852448                2.773656       3.000000   \n",
       "std                7.729888                8.831183       1.414219   \n",
       "min                0.000000                0.000000       1.000000   \n",
       "25%                0.000000                0.000000       2.000000   \n",
       "50%                0.000000                1.000000       3.000000   \n",
       "75%                2.000000                3.000000       4.000000   \n",
       "max              844.000000              923.000000       5.000000   \n",
       "\n",
       "               Time         length  \n",
       "count  1.250000e+05  125000.000000  \n",
       "mean   1.299249e+09     456.388040  \n",
       "std    4.597147e+07     455.731686  \n",
       "min    9.617184e+08      30.000000  \n",
       "25%    1.278547e+09     189.000000  \n",
       "50%    1.313626e+09     324.000000  \n",
       "75%    1.333411e+09     561.000000  \n",
       "max    1.351210e+09   20560.000000  "
      ]
     },
     "execution_count": 24,
     "metadata": {},
     "output_type": "execute_result"
    }
   ],
   "source": [
    "balanced_data.describe()"
   ]
  },
  {
   "cell_type": "code",
   "execution_count": 25,
   "metadata": {},
   "outputs": [
    {
     "data": {
      "text/plain": [
       "Index(['ProductId', 'UserId', 'ProfileName', 'HelpfulnessNumerator',\n",
       "       'HelpfulnessDenominator', 'Score', 'Time', 'Summary', 'Text', 'length'],\n",
       "      dtype='object')"
      ]
     },
     "execution_count": 25,
     "metadata": {},
     "output_type": "execute_result"
    }
   ],
   "source": [
    "balanced_data.columns"
   ]
  },
  {
   "cell_type": "code",
   "execution_count": 26,
   "metadata": {},
   "outputs": [
    {
     "data": {
      "text/plain": [
       "0         I just recently visited my nearby Fresh and Ea...\n",
       "1         This works great  I followed the recipe on the...\n",
       "2         Personal preference too sweet  Tastes like Gen...\n",
       "3         My daughter loves these snacks She doesnt care...\n",
       "4         I would not recommend buying this product beca...\n",
       "                                ...                        \n",
       "124995    I have a cat that can sense a pill in anything...\n",
       "124996    I was looking for an affordable product to use...\n",
       "124997    tasted like plastic The texture is so strange ...\n",
       "124998    This stuff taste terrible  Just like an artifi...\n",
       "124999    These are the best things since sliced bread  ...\n",
       "Name: Text, Length: 125000, dtype: object"
      ]
     },
     "execution_count": 26,
     "metadata": {},
     "output_type": "execute_result"
    }
   ],
   "source": [
    "balanced_data['Text']"
   ]
  },
  {
   "cell_type": "markdown",
   "metadata": {},
   "source": [
    "### Step 2: Data Cleaning"
   ]
  },
  {
   "cell_type": "markdown",
   "metadata": {},
   "source": [
    "#### Drop Unnecesary Columns"
   ]
  },
  {
   "cell_type": "code",
   "execution_count": 27,
   "metadata": {},
   "outputs": [
    {
     "data": {
      "text/html": [
       "<div>\n",
       "<style scoped>\n",
       "    .dataframe tbody tr th:only-of-type {\n",
       "        vertical-align: middle;\n",
       "    }\n",
       "\n",
       "    .dataframe tbody tr th {\n",
       "        vertical-align: top;\n",
       "    }\n",
       "\n",
       "    .dataframe thead th {\n",
       "        text-align: right;\n",
       "    }\n",
       "</style>\n",
       "<table border=\"1\" class=\"dataframe\">\n",
       "  <thead>\n",
       "    <tr style=\"text-align: right;\">\n",
       "      <th></th>\n",
       "      <th>Score</th>\n",
       "      <th>Text</th>\n",
       "    </tr>\n",
       "  </thead>\n",
       "  <tbody>\n",
       "    <tr>\n",
       "      <th>0</th>\n",
       "      <td>5</td>\n",
       "      <td>I just recently visited my nearby Fresh and Ea...</td>\n",
       "    </tr>\n",
       "    <tr>\n",
       "      <th>1</th>\n",
       "      <td>5</td>\n",
       "      <td>This works great  I followed the recipe on the...</td>\n",
       "    </tr>\n",
       "    <tr>\n",
       "      <th>2</th>\n",
       "      <td>2</td>\n",
       "      <td>Personal preference too sweet  Tastes like Gen...</td>\n",
       "    </tr>\n",
       "    <tr>\n",
       "      <th>3</th>\n",
       "      <td>5</td>\n",
       "      <td>My daughter loves these snacks She doesnt care...</td>\n",
       "    </tr>\n",
       "    <tr>\n",
       "      <th>4</th>\n",
       "      <td>3</td>\n",
       "      <td>I would not recommend buying this product beca...</td>\n",
       "    </tr>\n",
       "  </tbody>\n",
       "</table>\n",
       "</div>"
      ],
      "text/plain": [
       "   Score                                               Text\n",
       "0      5  I just recently visited my nearby Fresh and Ea...\n",
       "1      5  This works great  I followed the recipe on the...\n",
       "2      2  Personal preference too sweet  Tastes like Gen...\n",
       "3      5  My daughter loves these snacks She doesnt care...\n",
       "4      3  I would not recommend buying this product beca..."
      ]
     },
     "execution_count": 27,
     "metadata": {},
     "output_type": "execute_result"
    }
   ],
   "source": [
    "# List of columns to drop\n",
    "columns_to_drop = ['ProductId', 'UserId', 'ProfileName', 'HelpfulnessNumerator', \n",
    "                   'HelpfulnessDenominator', 'Time', 'Summary', 'length']\n",
    "\n",
    "# Drop the specified columns\n",
    "balanced_data = balanced_data.drop(columns=columns_to_drop)\n",
    "\n",
    "# Display the updated DataFrame\n",
    "balanced_data.head()"
   ]
  },
  {
   "cell_type": "code",
   "execution_count": 28,
   "metadata": {},
   "outputs": [],
   "source": [
    "# First lets remove Punctuations from the Reviews\n",
    "def punctuation_removal(messy_str):\n",
    "    clean_list = [char for char in messy_str if char not in string.punctuation]\n",
    "    clean_str = ''.join(clean_list)\n",
    "    return clean_str\n",
    "\n",
    "balanced_data['Text'] = balanced_data['Text'].apply(punctuation_removal)"
   ]
  },
  {
   "cell_type": "code",
   "execution_count": 31,
   "metadata": {},
   "outputs": [],
   "source": [
    "import re\n",
    "\n",
    "# Function to remove numbers from reviews\n",
    "def drop_numbers(list_text):\n",
    "    list_text_new = []\n",
    "    for i in list_text:\n",
    "        if not re.search(r'\\d', i):  # Use raw string for regex\n",
    "            list_text_new.append(i)\n",
    "    return ''.join(list_text_new)\n",
    "\n",
    "# Apply the function to the \"Text\" column\n",
    "balanced_data['Text'] = balanced_data['Text'].apply(drop_numbers)\n"
   ]
  },
  {
   "cell_type": "code",
   "execution_count": 32,
   "metadata": {},
   "outputs": [
    {
     "data": {
      "text/plain": [
       "0    I just recently visited my nearby Fresh and Ea...\n",
       "1    This works great  I followed the recipe on the...\n",
       "2    Personal preference too sweet  Tastes like Gen...\n",
       "3    My daughter loves these snacks She doesnt care...\n",
       "4    I would not recommend buying this product beca...\n",
       "5    Illy medium roast is one the best ground coffe...\n",
       "6    I ordered this for some time but have recently...\n",
       "7    packaged cheese  what a great idea add monosod...\n",
       "8    We can no longer drink coffee and husband cant...\n",
       "9    My big puppy is not impressed Hell ignore a pa...\n",
       "Name: Text, dtype: object"
      ]
     },
     "execution_count": 32,
     "metadata": {},
     "output_type": "execute_result"
    }
   ],
   "source": [
    "balanced_data['Text'].head(10)"
   ]
  },
  {
   "cell_type": "code",
   "execution_count": 37,
   "metadata": {},
   "outputs": [
    {
     "name": "stderr",
     "output_type": "stream",
     "text": [
      "/var/folders/2q/34gy_yqs79q2pmyt_q5t689h0000gn/T/ipykernel_2216/2558911142.py:2: FutureWarning: \n",
      "\n",
      "Passing `palette` without assigning `hue` is deprecated and will be removed in v0.14.0. Assign the `x` variable to `hue` and set `legend=False` for the same effect.\n",
      "\n",
      "  sns.countplot(x='Score', data=balanced_data , palette='viridis')\n"
     ]
    },
    {
     "data": {
      "image/png": "[encoded data removed]",
      "text/plain": [
       "<Figure size 800x600 with 1 Axes>"
      ]
     },
     "metadata": {},
     "output_type": "display_data"
    }
   ],
   "source": [
    "plt.figure(figsize=(8, 6))\n",
    "sns.countplot(x='Score', data=balanced_data , palette='viridis')\n",
    "plt.title('Number of Entries per Score')\n",
    "plt.xlabel('Score')\n",
    "plt.ylabel('Count')\n",
    "plt.show()"
   ]
  },
  {
   "cell_type": "code",
   "execution_count": 38,
   "metadata": {},
   "outputs": [
    {
     "name": "stdout",
     "output_type": "stream",
     "text": [
      "   Score                                               Text Sentiment\n",
      "0      5  I just recently visited my nearby Fresh and Ea...  Positive\n",
      "1      5  This works great  I followed the recipe on the...  Positive\n",
      "2      2  Personal preference too sweet  Tastes like Gen...  Negative\n",
      "3      5  My daughter loves these snacks She doesnt care...  Positive\n",
      "4      3  I would not recommend buying this product beca...   Neutral\n"
     ]
    }
   ],
   "source": [
    "# Define a function to classify scores\n",
    "def classify_score(score):\n",
    "    if score in [4, 5]:\n",
    "        return 'Positive'\n",
    "    elif score == 3:\n",
    "        return 'Neutral'\n",
    "    elif score in [1, 2]:\n",
    "        return 'Negative'\n",
    "\n",
    "# Apply the function to create a new column\n",
    "balanced_data['Sentiment'] = balanced_data['Score'].apply(classify_score)\n",
    "\n",
    "# Display the updated DataFrame\n",
    "print(balanced_data.head())"
   ]
  },
  {
   "cell_type": "code",
   "execution_count": 39,
   "metadata": {},
   "outputs": [
    {
     "data": {
      "text/plain": [
       "(125000, 3)"
      ]
     },
     "execution_count": 39,
     "metadata": {},
     "output_type": "execute_result"
    }
   ],
   "source": [
    "balanced_data.shape"
   ]
  }
 ],
 "metadata": {
  "kernelspec": {
   "display_name": "Python 3",
   "language": "python",
   "name": "python3"
  },
  "language_info": {
   "codemirror_mode": {
    "name": "ipython",
    "version": 3
   },
   "file_extension": ".py",
   "mimetype": "text/x-python",
   "name": "python",
   "nbconvert_exporter": "python",
   "pygments_lexer": "ipython3",
   "version": "3.12.6"
  }
 },
 "nbformat": 4,
 "nbformat_minor": 2
}
